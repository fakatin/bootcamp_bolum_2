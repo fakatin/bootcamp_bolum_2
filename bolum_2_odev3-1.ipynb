{
 "cells": [
  {
   "cell_type": "code",
   "execution_count": null,
   "metadata": {},
   "outputs": [],
   "source": [
    "gunler={'1':'pazartesi','2':'salı','3':'çarşamba','4':'perşembe','5':'cuma','6':'cumartesi','7':'pazar'}\n",
    "a=input('lütfen silmek istediğiniz 2 güne ait rakamları giriniz\\n')\n",
    "list(a)\n",
    "del gunler[str(a[0])]\n",
    "del gunler[str(a[1])]\n",
    "print(gunler)"
   ]
  },
  {
   "cell_type": "code",
   "execution_count": null,
   "metadata": {},
   "outputs": [],
   "source": []
  }
 ],
 "metadata": {
  "kernelspec": {
   "display_name": "Python 3",
   "language": "python",
   "name": "python3"
  },
  "language_info": {
   "codemirror_mode": {
    "name": "ipython",
    "version": 3
   },
   "file_extension": ".py",
   "mimetype": "text/x-python",
   "name": "python",
   "nbconvert_exporter": "python",
   "pygments_lexer": "ipython3",
   "version": "3.7.4"
  }
 },
 "nbformat": 4,
 "nbformat_minor": 2
}
