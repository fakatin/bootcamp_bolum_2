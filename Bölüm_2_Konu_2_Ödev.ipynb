{
 "cells": [
  {
   "cell_type": "code",
   "execution_count": 11,
   "metadata": {},
   "outputs": [
    {
     "name": "stdout",
     "output_type": "stream",
     "text": [
      "1000 $ paranız 1 hafta sonunda : 2210.68 $ oldu\n"
     ]
    }
   ],
   "source": [
    "ana_para=1000\n",
    "ana_para=ana_para*1.12\n",
    "ana_para=ana_para*1.12\n",
    "ana_para=ana_para*1.12\n",
    "ana_para=ana_para*1.12\n",
    "ana_para=ana_para*1.12\n",
    "ana_para=ana_para*1.12\n",
    "ana_para=ana_para*1.12\n",
    "print(\"1000 $ paranız 1 hafta sonunda : {:.2f} $ oldu\" .format(ana_para))"
   ]
  },
  {
   "cell_type": "code",
   "execution_count": 22,
   "metadata": {},
   "outputs": [
    {
     "name": "stdout",
     "output_type": "stream",
     "text": [
      "Hafta başında 1000 dolarlık bitcoin aldığımızda günde ortalama % \n",
      " 12 kazançla, bir hafta sonunda 1210.68 dolar kazanırdık\n"
     ]
    }
   ],
   "source": [
    "ana_para=1000\n",
    "gunluk_faiz=12\n",
    "kazanç=1210.68\n",
    "print(\"Hafta başında\" ,ana_para, \"dolarlık bitcoin aldığımızda günde ortalama % \" \"\\n\" ,gunluk_faiz, \"kazançla, bir hafta sonunda\" , kazanç,  \"dolar kazanırdık\")\n"
   ]
  },
  {
   "cell_type": "code",
   "execution_count": 31,
   "metadata": {},
   "outputs": [
    {
     "name": "stdout",
     "output_type": "stream",
     "text": [
      "Dosya Adını giriniz : deneme\n",
      "deneme.py\n"
     ]
    }
   ],
   "source": [
    "ad= input('Dosya Adını giriniz : ')\n",
    "ad=ad+\".py\"\n",
    "print(ad)"
   ]
  },
  {
   "cell_type": "code",
   "execution_count": null,
   "metadata": {},
   "outputs": [],
   "source": []
  }
 ],
 "metadata": {
  "kernelspec": {
   "display_name": "Python 3",
   "language": "python",
   "name": "python3"
  },
  "language_info": {
   "codemirror_mode": {
    "name": "ipython",
    "version": 3
   },
   "file_extension": ".py",
   "mimetype": "text/x-python",
   "name": "python",
   "nbconvert_exporter": "python",
   "pygments_lexer": "ipython3",
   "version": "3.7.4"
  }
 },
 "nbformat": 4,
 "nbformat_minor": 2
}
