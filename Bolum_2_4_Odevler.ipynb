{
 "cells": [
  {
   "cell_type": "markdown",
   "metadata": {},
   "source": [
    "# Cevap 1"
   ]
  },
  {
   "cell_type": "code",
   "execution_count": 2,
   "metadata": {},
   "outputs": [
    {
     "name": "stdout",
     "output_type": "stream",
     "text": [
      "Dönüştürülecek sıcaklık değerini girin: 40f\n",
      "4.44 C\n"
     ]
    }
   ],
   "source": [
    "#try içerisinde hata verebilecek komutlar yazılır.Hata verdiği an try bloğundan çıkılır, bu hata python içinde tutulur.\n",
    "#Eğer hatam ValueError ise except komutunun içerisindeki kod çalışır.\n",
    "#except ise bu hatayı yakalamamı sağlar.\n",
    "deger=input(\"Dönüştürülecek sıcaklık değerini girin: \")\n",
    "try:\n",
    "    if (deger[-1]=='F') | (deger[-1]=='f'):\n",
    "        celc=(5/9)*(int(deger[0:-1])-32)\n",
    "        print(round(celc,2),'C')\n",
    "    elif (deger[-1]=='C') | (deger[-1]=='c'):\n",
    "        fahr=(9/5)*int(deger[0:-1])+32\n",
    "        print(round(fahr,2),'F')\n",
    "    else:\n",
    "        print(\"\\nBu programla sadece Fahrenayt-Celcius dönüşümü yapılabilir. Lütfen birim belirtiniz.\")\n",
    "    \n",
    "except ValueError:\n",
    "    print(\"\\nLütfen geçerli bir sayı girin. (Örnek: 40C)\")"
   ]
  },
  {
   "cell_type": "markdown",
   "metadata": {},
   "source": [
    "# Cevap 2"
   ]
  },
  {
   "cell_type": "code",
   "execution_count": 1,
   "metadata": {
    "scrolled": false
   },
   "outputs": [
    {
     "name": "stdout",
     "output_type": "stream",
     "text": [
      "bir isim giriniz: deneme\n",
      "emened\n"
     ]
    }
   ],
   "source": [
    "a=input(\"bir isim giriniz: \")\n",
    "print(a[::-1])"
   ]
  },
  {
   "cell_type": "markdown",
   "metadata": {},
   "source": [
    "# Cevap 4"
   ]
  },
  {
   "cell_type": "code",
   "execution_count": 3,
   "metadata": {},
   "outputs": [
    {
     "name": "stdout",
     "output_type": "stream",
     "text": [
      "Hangi sayı için çarpım tablosu oluşturulsun :5\n",
      "5 X 1 = 5\n",
      "5 X 2 = 10\n",
      "5 X 3 = 15\n",
      "5 X 4 = 20\n",
      "5 X 5 = 25\n",
      "5 X 6 = 30\n",
      "5 X 7 = 35\n",
      "5 X 8 = 40\n",
      "5 X 9 = 45\n",
      "5 X 10 = 50\n"
     ]
    }
   ],
   "source": [
    "sayi=int(input('Hangi sayı için çarpım tablosu oluşturulsun :'))\n",
    "a=1\n",
    "while a<=10:\n",
    "    b=sayi*a\n",
    "    print('{} X {} = {}'.format(sayi,a,b))\n",
    "    a+=1"
   ]
  },
  {
   "cell_type": "markdown",
   "metadata": {},
   "source": [
    "# Cevap 5"
   ]
  },
  {
   "cell_type": "code",
   "execution_count": 4,
   "metadata": {},
   "outputs": [
    {
     "name": "stdout",
     "output_type": "stream",
     "text": [
      "[1, 9, 25, 49, 81, 121, 169, 225, 289, 361]\n",
      "[8, 64, 216, 512, 1000, 1728, 2744, 4096, 5832, 8000]\n"
     ]
    }
   ],
   "source": [
    "#Ayrı ayrı listelerde\n",
    "teksayiskaresi=[x**2 for x in range(1,21) if x%2!=0]\n",
    "ciftsayiküpü=[y**3 for y in range(1,21) if y%2==0]\n",
    "print(teksayiskaresi)\n",
    "print(ciftsayiküpü)"
   ]
  },
  {
   "cell_type": "code",
   "execution_count": 5,
   "metadata": {},
   "outputs": [
    {
     "name": "stdout",
     "output_type": "stream",
     "text": [
      "[1, 8, 9, 64, 25, 216, 49, 512, 81, 1000, 121, 1728, 169, 2744, 225, 4096, 289, 5832, 361, 8000]\n"
     ]
    }
   ],
   "source": [
    "#tek bir listede\n",
    "liste=[x**3 if x%2==0 else x**2 for x in range(1,21)]\n",
    "print(liste)"
   ]
  },
  {
   "cell_type": "code",
   "execution_count": null,
   "metadata": {},
   "outputs": [],
   "source": []
  }
 ],
 "metadata": {
  "kernelspec": {
   "display_name": "Python 3",
   "language": "python",
   "name": "python3"
  },
  "language_info": {
   "codemirror_mode": {
    "name": "ipython",
    "version": 3
   },
   "file_extension": ".py",
   "mimetype": "text/x-python",
   "name": "python",
   "nbconvert_exporter": "python",
   "pygments_lexer": "ipython3",
   "version": "3.7.4"
  }
 },
 "nbformat": 4,
 "nbformat_minor": 2
}
