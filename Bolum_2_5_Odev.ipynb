{
 "cells": [
  {
   "cell_type": "markdown",
   "metadata": {},
   "source": [
    "# Cevap1"
   ]
  },
  {
   "cell_type": "code",
   "execution_count": 1,
   "metadata": {},
   "outputs": [],
   "source": [
    "##Seçeceğiniz herhangi bir şiiri bilgisayarına .txt dsyası olarak kaydedin. \n",
    "##Şiirin kaç dizeden oluştuğunu hesaplayın ve \n",
    "##başka bir dosyaya her dizenin ilk kelimesini yazdırın."
   ]
  },
  {
   "cell_type": "code",
   "execution_count": 5,
   "metadata": {},
   "outputs": [
    {
     "name": "stdout",
     "output_type": "stream",
     "text": [
      "['Ne hasta bekler sabahı,\\n', 'Ne taze ölüyü mezar.\\n', 'Ne de şeytan, bir günahı,\\n', 'Seni beklediğim kadar.\\n', '\\n', 'Geçti istemem gelmeni,\\n', 'Yokluğunda buldum seni;\\n', 'Bırak  vehmimde gölgeni\\n', 'Gelme, artık neye yarar?']\n"
     ]
    },
    {
     "data": {
      "text/plain": [
       "9"
      ]
     },
     "execution_count": 5,
     "metadata": {},
     "output_type": "execute_result"
    }
   ],
   "source": [
    "with open(\"beklenen.txt\",\"r\",encoding=\"utf8\") as f:\n",
    "    liste=f.readlines() \n",
    "    print(liste)\n",
    "len(liste)"
   ]
  },
  {
   "cell_type": "markdown",
   "metadata": {},
   "source": [
    "# Cevap2"
   ]
  },
  {
   "cell_type": "code",
   "execution_count": 6,
   "metadata": {},
   "outputs": [],
   "source": [
    "##Parametre olarak girilen bir sayının \n",
    "##asal sayı olup olmadığını belirten bir fonksiyon yazın."
   ]
  },
  {
   "cell_type": "code",
   "execution_count": 14,
   "metadata": {},
   "outputs": [
    {
     "name": "stdout",
     "output_type": "stream",
     "text": [
      "Sayı giriniz: 71\n",
      "Sayı Asaldır\n"
     ]
    }
   ],
   "source": [
    "def AsalKontrol(sayi):\n",
    "\n",
    "    if sayi % 2 == 0:\n",
    "\n",
    "        print(\"Sayı Asal Değildir !\")\n",
    "        return\n",
    "\n",
    "    for deger in range(3,sayi):\n",
    "\n",
    "        if sayi % deger == 0:\n",
    "\n",
    "            print(\"Sayı Asal Değildir !\")\n",
    "            return\n",
    "\n",
    "    print(\"Sayı Asaldır\")\n",
    "\n",
    "sayi=int(input(\"Sayı giriniz: \"))\n",
    "AsalKontrol(sayi)"
   ]
  },
  {
   "cell_type": "markdown",
   "metadata": {},
   "source": [
    "# Cevap 4"
   ]
  },
  {
   "cell_type": "code",
   "execution_count": 15,
   "metadata": {},
   "outputs": [],
   "source": [
    "#Python'da hazır birçok modül bulunmaktadır. \n",
    "#Zaman ile ilgili modüllerden birisini import ederek, \n",
    "#parametre olarak doğum tarihi alan ve yaşı döndüren bir fonksiyon yazınız."
   ]
  },
  {
   "cell_type": "code",
   "execution_count": 16,
   "metadata": {},
   "outputs": [
    {
     "name": "stdout",
     "output_type": "stream",
     "text": [
      "2020-03-19 00:00:53.019551\n",
      "Doğduğunuz Yılınız giriniz: 1982\n",
      "Doğduğunuz Ayı giriniz: 1\n",
      "Doğduğunuz Günü giriniz: 25\n",
      "38 yıl\n",
      "2 ay\n",
      "6 gün. \n"
     ]
    }
   ],
   "source": [
    "import datetime\n",
    "now=datetime.datetime.now()\n",
    "print(now)\n",
    "\n",
    "useryear=int(input(\"Doğduğunuz Yılınız giriniz: \"))\n",
    "usermonth=int(input(\"Doğduğunuz Ayı giriniz: \"))\n",
    "userday=int(input(\"Doğduğunuz Günü giriniz: \"))\n",
    "\n",
    "nowyear = int(now.year)\n",
    "nowmonth = int(now.month)\n",
    "nowday = int(now.day)\n",
    "\n",
    "finyear = nowyear - useryear\n",
    "finmonth = abs(nowmonth - usermonth)\n",
    "finday = abs(nowday - userday)\n",
    "\n",
    "\n",
    "print(\"{} yıl\".format(finyear))\n",
    "print(\"{} ay\" .format(finmonth))\n",
    "print(\"{} gün. \" .format(finday))\n"
   ]
  },
  {
   "cell_type": "code",
   "execution_count": null,
   "metadata": {},
   "outputs": [],
   "source": []
  }
 ],
 "metadata": {
  "kernelspec": {
   "display_name": "Python 3",
   "language": "python",
   "name": "python3"
  },
  "language_info": {
   "codemirror_mode": {
    "name": "ipython",
    "version": 3
   },
   "file_extension": ".py",
   "mimetype": "text/x-python",
   "name": "python",
   "nbconvert_exporter": "python",
   "pygments_lexer": "ipython3",
   "version": "3.7.4"
  }
 },
 "nbformat": 4,
 "nbformat_minor": 2
}
