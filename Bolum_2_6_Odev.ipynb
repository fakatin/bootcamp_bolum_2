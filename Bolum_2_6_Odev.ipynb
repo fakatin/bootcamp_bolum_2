{
 "cells": [
  {
   "cell_type": "markdown",
   "metadata": {},
   "source": [
    "# Cevap 1"
   ]
  },
  {
   "cell_type": "code",
   "execution_count": 1,
   "metadata": {},
   "outputs": [
    {
     "name": "stdout",
     "output_type": "stream",
     "text": [
      "[[  0   2   4   6   8  10  12  14  16  18]\n",
      " [ 20  22  24  26  28  30  32  34  36  38]\n",
      " [ 40  42  44  46  48  50  52  54  56  58]\n",
      " [ 60  62  64  66  68  70  72  74  76  78]\n",
      " [ 80  82  84  86  88  90  92  94  96  98]\n",
      " [100 102 104 106 108 110 112 114 116 118]\n",
      " [120 122 124 126 128 130 132 134 136 138]\n",
      " [140 142 144 146 148 150 152 154 156 158]\n",
      " [160 162 164 166 168 170 172 174 176 178]\n",
      " [180 182 184 186 188 190 192 194 196 198]]\n"
     ]
    }
   ],
   "source": [
    "#1'den 200'ye kadar olan çift sayılardan oluşan 10 X 10'luk bir dizi oluşturun. \n",
    "#arange() fonksiyonu yardımcı olabilir.\n",
    "import numpy as np\n",
    "a=np.arange(0,200,2).reshape(10,10)\n",
    "print(a)\n"
   ]
  },
  {
   "cell_type": "markdown",
   "metadata": {},
   "source": [
    "# Cevap 2"
   ]
  },
  {
   "cell_type": "code",
   "execution_count": null,
   "metadata": {},
   "outputs": [],
   "source": [
    "#Parametre olarak girilen satır ve kolon sayısına göre \n",
    "#kenarları 1'lerden, içi 0'lardan oluşan dizi döndüren bir fonksiyon yazınız."
   ]
  },
  {
   "cell_type": "code",
   "execution_count": 2,
   "metadata": {},
   "outputs": [
    {
     "name": "stdout",
     "output_type": "stream",
     "text": [
      "Matrisin 1. boyutunu giriniz : 5\n",
      "Matrisin 2. boyutunu giriniz : 6\n"
     ]
    },
    {
     "data": {
      "text/plain": [
       "array([[1., 1., 1., 1., 1., 1.],\n",
       "       [1., 0., 0., 0., 0., 1.],\n",
       "       [1., 0., 0., 0., 0., 1.],\n",
       "       [1., 0., 0., 0., 0., 1.],\n",
       "       [1., 1., 1., 1., 1., 1.]])"
      ]
     },
     "execution_count": 2,
     "metadata": {},
     "output_type": "execute_result"
    }
   ],
   "source": [
    "import numpy as np\n",
    "def matris ():\n",
    "    a=int(input(\"Matrisin 1. boyutunu giriniz : \"))\n",
    "    b=int(input(\"Matrisin 2. boyutunu giriniz : \"))\n",
    "    y=np.ones(a*b).reshape(a,b)\n",
    "    y[1:a-1,1:b-1]=0\n",
    "    \n",
    "    return y\n",
    "matris()"
   ]
  },
  {
   "cell_type": "code",
   "execution_count": null,
   "metadata": {},
   "outputs": [],
   "source": []
  }
 ],
 "metadata": {
  "kernelspec": {
   "display_name": "Python 3",
   "language": "python",
   "name": "python3"
  },
  "language_info": {
   "codemirror_mode": {
    "name": "ipython",
    "version": 3
   },
   "file_extension": ".py",
   "mimetype": "text/x-python",
   "name": "python",
   "nbconvert_exporter": "python",
   "pygments_lexer": "ipython3",
   "version": "3.7.4"
  }
 },
 "nbformat": 4,
 "nbformat_minor": 2
}
