{
 "cells": [
  {
   "cell_type": "markdown",
   "metadata": {},
   "source": [
    "### Cevap 1"
   ]
  },
  {
   "cell_type": "code",
   "execution_count": 1,
   "metadata": {},
   "outputs": [
    {
     "name": "stdout",
     "output_type": "stream",
     "text": [
      "lütfen silmek istediğiniz 2 güne ait rakamları giriniz\n",
      "12\n",
      "{'3': 'çarşamba', '4': 'perşembe', '5': 'cuma', '6': 'cumartesi', '7': 'pazar'}\n"
     ]
    }
   ],
   "source": [
    "gunler={'1':'pazartesi','2':'salı','3':'çarşamba','4':'perşembe','5':'cuma','6':'cumartesi','7':'pazar'}\n",
    "a=input('lütfen silmek istediğiniz 2 güne ait rakamları giriniz\\n')\n",
    "list(a)\n",
    "del gunler[str(a[0])]\n",
    "del gunler[str(a[1])]\n",
    "print(gunler)"
   ]
  },
  {
   "cell_type": "markdown",
   "metadata": {},
   "source": [
    "# Cevap 2"
   ]
  },
  {
   "cell_type": "code",
   "execution_count": 2,
   "metadata": {},
   "outputs": [
    {
     "name": "stdout",
     "output_type": "stream",
     "text": [
      "[['Ocak', 31], ['Şubat', 28], ['Mart', 31], ['Nisan', 30], ['Mayıs', 31], ['Haziran', 30], ['Temmuz', 31], ['Ağustos', 31], ['Eylül', 30], ['Ekim', 31], ['Kasım', 30], ['Aralık', 31]]\n"
     ]
    }
   ],
   "source": [
    "\n",
    "aylar=[[\"Ocak\", 31], [\"Şubat\", 28], [\"Mart\", 31], \n",
    "       [\"Nisan\", 30], [\"Mayıs\", 31], [\"Haziran\", 30], \n",
    "       [\"Temmuz\", 31], [\"Ağustos\", 31], [\"Eylül\", 30], \n",
    "       [\"Ekim\", 31], [\"Kasım\", 30], [\"Aralık\", 31]]\n",
    "print(aylar)\n"
   ]
  },
  {
   "cell_type": "markdown",
   "metadata": {},
   "source": [
    "# Cevap 3"
   ]
  },
  {
   "cell_type": "code",
   "execution_count": 3,
   "metadata": {},
   "outputs": [
    {
     "name": "stdout",
     "output_type": "stream",
     "text": [
      "[['Ocak', 'Şubat', 'Mart', 'Nisan', 'Mayıs', 'Haziran', 'Temmuz', 'Ağustos', 'Eylül', 'Ekim', 'Kasım', 'Aralık'], [31, 28, 31, 30, 31, 30, 31, 31, 30, 31, 30, 31]]\n"
     ]
    }
   ],
   "source": [
    "ay_adlari=[aylar[0][0], aylar[1][0], aylar[2][0], \n",
    "           aylar[3][0], aylar[4][0], aylar[5][0], \n",
    "           aylar[6][0], aylar[7][0], aylar[8][0], \n",
    "           aylar[9][0], aylar[10][0], aylar[11][0],]\n",
    "\n",
    "gun_sayilari=[aylar[0][1], aylar[1][1], aylar[2][1], \n",
    "              aylar[3][1], aylar[4][1], aylar[5][1], \n",
    "              aylar[6][1], aylar[7][1], aylar[8][1], \n",
    "              aylar[9][1], aylar[10][1], aylar[11][1],]\n",
    "\n",
    "birlesik=[ay_adlari, gun_sayilari]\n",
    "\n",
    "print(birlesik)"
   ]
  },
  {
   "cell_type": "markdown",
   "metadata": {},
   "source": [
    "# Cevap 4"
   ]
  },
  {
   "cell_type": "code",
   "execution_count": 5,
   "metadata": {},
   "outputs": [],
   "source": [
    "ilkbahar=[[\"Mart\", 31], [\"Nisan\", 30], [\"Mayıs\", 31],]\n",
    "yaz=[[\"Haziran\", 30], [\"Temmuz\", 31], [\"Ağustos\", 31],]\n",
    "sonbahar=[[\"Eylül\", 30], [\"Ekim\", 31], [\"Kasım\", 30],]\n",
    "kis=[[\"Aralık\", 31], [\"Ocak\", 31], [\"Şubat\", 28]]"
   ]
  },
  {
   "cell_type": "code",
   "execution_count": 6,
   "metadata": {},
   "outputs": [
    {
     "name": "stdout",
     "output_type": "stream",
     "text": [
      "92\n"
     ]
    }
   ],
   "source": [
    "print(yaz[0][1]+yaz[1][1]+yaz[2][1])"
   ]
  },
  {
   "cell_type": "code",
   "execution_count": null,
   "metadata": {},
   "outputs": [],
   "source": []
  }
 ],
 "metadata": {
  "kernelspec": {
   "display_name": "Python 3",
   "language": "python",
   "name": "python3"
  },
  "language_info": {
   "codemirror_mode": {
    "name": "ipython",
    "version": 3
   },
   "file_extension": ".py",
   "mimetype": "text/x-python",
   "name": "python",
   "nbconvert_exporter": "python",
   "pygments_lexer": "ipython3",
   "version": "3.7.4"
  }
 },
 "nbformat": 4,
 "nbformat_minor": 2
}
